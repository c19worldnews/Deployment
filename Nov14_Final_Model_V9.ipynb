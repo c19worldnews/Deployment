{
  "nbformat": 4,
  "nbformat_minor": 0,
  "metadata": {
    "accelerator": "TPU",
    "colab": {
      "name": "Nov14_Final_Model_V9.ipynb",
      "provenance": [],
      "collapsed_sections": [],
      "machine_shape": "hm"
    },
    "kernelspec": {
      "display_name": "Python 3",
      "name": "python3"
    },
    "language_info": {
      "name": "python"
    }
  },
  "cells": [
    {
      "cell_type": "code",
      "metadata": {
        "id": "8Cjd868LM5-k",
        "colab": {
          "base_uri": "https://localhost:8080/"
        },
        "outputId": "65803009-b8a4-406a-b56e-bafc1fb741b1"
      },
      "source": [
        "from google.colab import drive\n",
        "drive.mount('/content/drive')\n",
        "import numpy as np\n",
        "import pandas as pd \n",
        "pd.set_option('max_rows', 99999)\n",
        "pd.set_option('max_colwidth', 400)\n",
        "pd.describe_option('max_colwidth')"
      ],
      "execution_count": 21,
      "outputs": [
        {
          "output_type": "stream",
          "name": "stdout",
          "text": [
            "Drive already mounted at /content/drive; to attempt to forcibly remount, call drive.mount(\"/content/drive\", force_remount=True).\n",
            "display.max_colwidth : int or None\n",
            "    The maximum width in characters of a column in the repr of\n",
            "    a pandas data structure. When the column overflows, a \"...\"\n",
            "    placeholder is embedded in the output. A 'None' value means unlimited.\n",
            "    [default: 50] [currently: 400]\n"
          ]
        }
      ]
    },
    {
      "cell_type": "code",
      "metadata": {
        "id": "gt5a3LqOD1-f"
      },
      "source": [
        ""
      ],
      "execution_count": null,
      "outputs": []
    },
    {
      "cell_type": "code",
      "metadata": {
        "id": "LkOzUWpcNDdZ"
      },
      "source": [
        "import pandas as pd\n",
        "import seaborn as sns\n",
        "import numpy as np\n",
        "import matplotlib as mpl \n",
        "import matplotlib.pyplot as plt\n",
        "import plotly.graph_objects as go\n",
        "from sklearn.model_selection import train_test_split\n",
        "from keras.preprocessing.sequence import TimeseriesGenerator\n",
        "from sklearn.preprocessing import MinMaxScaler,StandardScaler\n",
        "import tensorflow as tf\n",
        "from tensorflow.keras.models import Sequential\n",
        "from tensorflow.keras.layers import LSTM\n",
        "from tensorflow.keras.layers import Dense, Dropout\n",
        "\n",
        "mpl.rcParams['figure.figsize'] = (10,8)\n",
        "mpl.rcParams['axes.grid'] = False"
      ],
      "execution_count": 22,
      "outputs": []
    },
    {
      "cell_type": "code",
      "metadata": {
        "id": "jjOIdraatoT2"
      },
      "source": [
        "#data_nov2 = pd.read_csv('/content/drive/MyDrive/Weather/Nov2-weather.csv')\n",
        "\n",
        "#data_nov2.tail()"
      ],
      "execution_count": null,
      "outputs": []
    },
    {
      "cell_type": "code",
      "metadata": {
        "colab": {
          "base_uri": "https://localhost:8080/"
        },
        "id": "oLhM2HZXNGE-",
        "outputId": "a01c3310-449c-49ae-8737-b28868bcf7da"
      },
      "source": [
        "data = pd.read_csv('/content/drive/MyDrive/Weather/Copy of merged-covid-weather-data_live_nov2.csv')\n",
        "# selected_columns = data[['cases_total','average_temperature_celsius','relative_humidity','rainfall_mm','dew_point']]\n",
        "# df_input = selected_columns.copy()\n"
      ],
      "execution_count": 23,
      "outputs": [
        {
          "output_type": "stream",
          "name": "stderr",
          "text": [
            "/usr/local/lib/python3.7/dist-packages/IPython/core/interactiveshell.py:2718: DtypeWarning:\n",
            "\n",
            "Columns (20,22,23,24,25) have mixed types.Specify dtype option on import or set low_memory=False.\n",
            "\n"
          ]
        }
      ]
    },
    {
      "cell_type": "code",
      "metadata": {
        "colab": {
          "base_uri": "https://localhost:8080/",
          "height": 322
        },
        "id": "PQovno5ghHCN",
        "outputId": "7145426b-321c-4ae0-c28d-5ba4252f7b92"
      },
      "source": [
        "data.head()"
      ],
      "execution_count": 4,
      "outputs": [
        {
          "output_type": "execute_result",
          "data": {
            "text/html": [
              "<div>\n",
              "<style scoped>\n",
              "    .dataframe tbody tr th:only-of-type {\n",
              "        vertical-align: middle;\n",
              "    }\n",
              "\n",
              "    .dataframe tbody tr th {\n",
              "        vertical-align: top;\n",
              "    }\n",
              "\n",
              "    .dataframe thead th {\n",
              "        text-align: right;\n",
              "    }\n",
              "</style>\n",
              "<table border=\"1\" class=\"dataframe\">\n",
              "  <thead>\n",
              "    <tr style=\"text-align: right;\">\n",
              "      <th></th>\n",
              "      <th>Unnamed: 0</th>\n",
              "      <th>date</th>\n",
              "      <th>location_key</th>\n",
              "      <th>new_confirmed</th>\n",
              "      <th>new_deceased</th>\n",
              "      <th>new_recovered</th>\n",
              "      <th>new_tested</th>\n",
              "      <th>cumulative_confirmed</th>\n",
              "      <th>cumulative_deceased</th>\n",
              "      <th>cumulative_recovered</th>\n",
              "      <th>cumulative_tested</th>\n",
              "      <th>average_temperature_celsius</th>\n",
              "      <th>minimum_temperature_celsius</th>\n",
              "      <th>maximum_temperature_celsius</th>\n",
              "      <th>rainfall_mm</th>\n",
              "      <th>snowfall_mm</th>\n",
              "      <th>dew_point</th>\n",
              "      <th>relative_humidity</th>\n",
              "      <th>country_code</th>\n",
              "      <th>country_name</th>\n",
              "      <th>subregion1_code</th>\n",
              "      <th>subregion1_name</th>\n",
              "      <th>subregion2_code</th>\n",
              "      <th>subregion2_name</th>\n",
              "      <th>locality_code</th>\n",
              "      <th>locality_name</th>\n",
              "      <th>iso_3166_1_alpha_2</th>\n",
              "      <th>iso_3166_1_alpha_3</th>\n",
              "    </tr>\n",
              "  </thead>\n",
              "  <tbody>\n",
              "    <tr>\n",
              "      <th>0</th>\n",
              "      <td>0</td>\n",
              "      <td>2020-01-01</td>\n",
              "      <td>AD</td>\n",
              "      <td>0</td>\n",
              "      <td>0</td>\n",
              "      <td>160</td>\n",
              "      <td>1886</td>\n",
              "      <td>0</td>\n",
              "      <td>0</td>\n",
              "      <td>32170</td>\n",
              "      <td>402476</td>\n",
              "      <td>5.23</td>\n",
              "      <td>1.51</td>\n",
              "      <td>9.17</td>\n",
              "      <td>2.48</td>\n",
              "      <td>NaN</td>\n",
              "      <td>0.18</td>\n",
              "      <td>72.97</td>\n",
              "      <td>AD</td>\n",
              "      <td>Andorra</td>\n",
              "      <td>NaN</td>\n",
              "      <td>NaN</td>\n",
              "      <td>NaN</td>\n",
              "      <td>NaN</td>\n",
              "      <td>NaN</td>\n",
              "      <td>NaN</td>\n",
              "      <td>AD</td>\n",
              "      <td>AND</td>\n",
              "    </tr>\n",
              "    <tr>\n",
              "      <th>1</th>\n",
              "      <td>1</td>\n",
              "      <td>2020-01-02</td>\n",
              "      <td>AD</td>\n",
              "      <td>0</td>\n",
              "      <td>0</td>\n",
              "      <td>160</td>\n",
              "      <td>1886</td>\n",
              "      <td>0</td>\n",
              "      <td>0</td>\n",
              "      <td>32170</td>\n",
              "      <td>402476</td>\n",
              "      <td>4.29</td>\n",
              "      <td>-0.78</td>\n",
              "      <td>10.44</td>\n",
              "      <td>5.02</td>\n",
              "      <td>NaN</td>\n",
              "      <td>-0.71</td>\n",
              "      <td>72.89</td>\n",
              "      <td>AD</td>\n",
              "      <td>Andorra</td>\n",
              "      <td>NaN</td>\n",
              "      <td>NaN</td>\n",
              "      <td>NaN</td>\n",
              "      <td>NaN</td>\n",
              "      <td>NaN</td>\n",
              "      <td>NaN</td>\n",
              "      <td>AD</td>\n",
              "      <td>AND</td>\n",
              "    </tr>\n",
              "    <tr>\n",
              "      <th>2</th>\n",
              "      <td>2</td>\n",
              "      <td>2020-01-03</td>\n",
              "      <td>AD</td>\n",
              "      <td>0</td>\n",
              "      <td>0</td>\n",
              "      <td>160</td>\n",
              "      <td>1886</td>\n",
              "      <td>0</td>\n",
              "      <td>0</td>\n",
              "      <td>32170</td>\n",
              "      <td>402476</td>\n",
              "      <td>5.20</td>\n",
              "      <td>0.88</td>\n",
              "      <td>8.92</td>\n",
              "      <td>4.01</td>\n",
              "      <td>NaN</td>\n",
              "      <td>0.44</td>\n",
              "      <td>73.98</td>\n",
              "      <td>AD</td>\n",
              "      <td>Andorra</td>\n",
              "      <td>NaN</td>\n",
              "      <td>NaN</td>\n",
              "      <td>NaN</td>\n",
              "      <td>NaN</td>\n",
              "      <td>NaN</td>\n",
              "      <td>NaN</td>\n",
              "      <td>AD</td>\n",
              "      <td>AND</td>\n",
              "    </tr>\n",
              "    <tr>\n",
              "      <th>3</th>\n",
              "      <td>3</td>\n",
              "      <td>2020-01-04</td>\n",
              "      <td>AD</td>\n",
              "      <td>0</td>\n",
              "      <td>0</td>\n",
              "      <td>160</td>\n",
              "      <td>1886</td>\n",
              "      <td>0</td>\n",
              "      <td>0</td>\n",
              "      <td>32170</td>\n",
              "      <td>402476</td>\n",
              "      <td>5.53</td>\n",
              "      <td>2.50</td>\n",
              "      <td>9.17</td>\n",
              "      <td>2.86</td>\n",
              "      <td>NaN</td>\n",
              "      <td>1.97</td>\n",
              "      <td>78.75</td>\n",
              "      <td>AD</td>\n",
              "      <td>Andorra</td>\n",
              "      <td>NaN</td>\n",
              "      <td>NaN</td>\n",
              "      <td>NaN</td>\n",
              "      <td>NaN</td>\n",
              "      <td>NaN</td>\n",
              "      <td>NaN</td>\n",
              "      <td>AD</td>\n",
              "      <td>AND</td>\n",
              "    </tr>\n",
              "    <tr>\n",
              "      <th>4</th>\n",
              "      <td>4</td>\n",
              "      <td>2020-01-05</td>\n",
              "      <td>AD</td>\n",
              "      <td>0</td>\n",
              "      <td>0</td>\n",
              "      <td>160</td>\n",
              "      <td>1886</td>\n",
              "      <td>0</td>\n",
              "      <td>0</td>\n",
              "      <td>32170</td>\n",
              "      <td>402476</td>\n",
              "      <td>4.53</td>\n",
              "      <td>-0.60</td>\n",
              "      <td>10.29</td>\n",
              "      <td>1.98</td>\n",
              "      <td>NaN</td>\n",
              "      <td>-2.29</td>\n",
              "      <td>66.45</td>\n",
              "      <td>AD</td>\n",
              "      <td>Andorra</td>\n",
              "      <td>NaN</td>\n",
              "      <td>NaN</td>\n",
              "      <td>NaN</td>\n",
              "      <td>NaN</td>\n",
              "      <td>NaN</td>\n",
              "      <td>NaN</td>\n",
              "      <td>AD</td>\n",
              "      <td>AND</td>\n",
              "    </tr>\n",
              "  </tbody>\n",
              "</table>\n",
              "</div>"
            ],
            "text/plain": [
              "   Unnamed: 0        date  ... iso_3166_1_alpha_2  iso_3166_1_alpha_3\n",
              "0           0  2020-01-01  ...                 AD                 AND\n",
              "1           1  2020-01-02  ...                 AD                 AND\n",
              "2           2  2020-01-03  ...                 AD                 AND\n",
              "3           3  2020-01-04  ...                 AD                 AND\n",
              "4           4  2020-01-05  ...                 AD                 AND\n",
              "\n",
              "[5 rows x 28 columns]"
            ]
          },
          "metadata": {},
          "execution_count": 4
        }
      ]
    },
    {
      "cell_type": "code",
      "metadata": {
        "colab": {
          "base_uri": "https://localhost:8080/"
        },
        "id": "uZnRIaUjffF9",
        "outputId": "c2a95c24-072b-44ff-b7fd-890d4a8c0ce9"
      },
      "source": [
        "data.info()"
      ],
      "execution_count": 24,
      "outputs": [
        {
          "output_type": "stream",
          "name": "stdout",
          "text": [
            "<class 'pandas.core.frame.DataFrame'>\n",
            "RangeIndex: 8627122 entries, 0 to 8627121\n",
            "Data columns (total 28 columns):\n",
            " #   Column                       Dtype  \n",
            "---  ------                       -----  \n",
            " 0   Unnamed: 0                   int64  \n",
            " 1   date                         object \n",
            " 2   location_key                 object \n",
            " 3   new_confirmed                int64  \n",
            " 4   new_deceased                 int64  \n",
            " 5   new_recovered                int64  \n",
            " 6   new_tested                   int64  \n",
            " 7   cumulative_confirmed         int64  \n",
            " 8   cumulative_deceased          int64  \n",
            " 9   cumulative_recovered         int64  \n",
            " 10  cumulative_tested            int64  \n",
            " 11  average_temperature_celsius  float64\n",
            " 12  minimum_temperature_celsius  float64\n",
            " 13  maximum_temperature_celsius  float64\n",
            " 14  rainfall_mm                  float64\n",
            " 15  snowfall_mm                  float64\n",
            " 16  dew_point                    float64\n",
            " 17  relative_humidity            float64\n",
            " 18  country_code                 object \n",
            " 19  country_name                 object \n",
            " 20  subregion1_code              object \n",
            " 21  subregion1_name              object \n",
            " 22  subregion2_code              object \n",
            " 23  subregion2_name              object \n",
            " 24  locality_code                object \n",
            " 25  locality_name                object \n",
            " 26  iso_3166_1_alpha_2           object \n",
            " 27  iso_3166_1_alpha_3           object \n",
            "dtypes: float64(7), int64(9), object(12)\n",
            "memory usage: 1.8+ GB\n"
          ]
        }
      ]
    },
    {
      "cell_type": "code",
      "metadata": {
        "colab": {
          "base_uri": "https://localhost:8080/",
          "height": 322
        },
        "id": "nkAXJoicoaIS",
        "outputId": "1902c686-660d-44e8-8af6-a8a0e40ceec9"
      },
      "source": [
        "data.head()"
      ],
      "execution_count": 25,
      "outputs": [
        {
          "output_type": "execute_result",
          "data": {
            "text/html": [
              "<div>\n",
              "<style scoped>\n",
              "    .dataframe tbody tr th:only-of-type {\n",
              "        vertical-align: middle;\n",
              "    }\n",
              "\n",
              "    .dataframe tbody tr th {\n",
              "        vertical-align: top;\n",
              "    }\n",
              "\n",
              "    .dataframe thead th {\n",
              "        text-align: right;\n",
              "    }\n",
              "</style>\n",
              "<table border=\"1\" class=\"dataframe\">\n",
              "  <thead>\n",
              "    <tr style=\"text-align: right;\">\n",
              "      <th></th>\n",
              "      <th>Unnamed: 0</th>\n",
              "      <th>date</th>\n",
              "      <th>location_key</th>\n",
              "      <th>new_confirmed</th>\n",
              "      <th>new_deceased</th>\n",
              "      <th>new_recovered</th>\n",
              "      <th>new_tested</th>\n",
              "      <th>cumulative_confirmed</th>\n",
              "      <th>cumulative_deceased</th>\n",
              "      <th>cumulative_recovered</th>\n",
              "      <th>cumulative_tested</th>\n",
              "      <th>average_temperature_celsius</th>\n",
              "      <th>minimum_temperature_celsius</th>\n",
              "      <th>maximum_temperature_celsius</th>\n",
              "      <th>rainfall_mm</th>\n",
              "      <th>snowfall_mm</th>\n",
              "      <th>dew_point</th>\n",
              "      <th>relative_humidity</th>\n",
              "      <th>country_code</th>\n",
              "      <th>country_name</th>\n",
              "      <th>subregion1_code</th>\n",
              "      <th>subregion1_name</th>\n",
              "      <th>subregion2_code</th>\n",
              "      <th>subregion2_name</th>\n",
              "      <th>locality_code</th>\n",
              "      <th>locality_name</th>\n",
              "      <th>iso_3166_1_alpha_2</th>\n",
              "      <th>iso_3166_1_alpha_3</th>\n",
              "    </tr>\n",
              "  </thead>\n",
              "  <tbody>\n",
              "    <tr>\n",
              "      <th>0</th>\n",
              "      <td>0</td>\n",
              "      <td>2020-01-01</td>\n",
              "      <td>AD</td>\n",
              "      <td>0</td>\n",
              "      <td>0</td>\n",
              "      <td>160</td>\n",
              "      <td>1886</td>\n",
              "      <td>0</td>\n",
              "      <td>0</td>\n",
              "      <td>32170</td>\n",
              "      <td>402476</td>\n",
              "      <td>5.23</td>\n",
              "      <td>1.51</td>\n",
              "      <td>9.17</td>\n",
              "      <td>2.48</td>\n",
              "      <td>NaN</td>\n",
              "      <td>0.18</td>\n",
              "      <td>72.97</td>\n",
              "      <td>AD</td>\n",
              "      <td>Andorra</td>\n",
              "      <td>NaN</td>\n",
              "      <td>NaN</td>\n",
              "      <td>NaN</td>\n",
              "      <td>NaN</td>\n",
              "      <td>NaN</td>\n",
              "      <td>NaN</td>\n",
              "      <td>AD</td>\n",
              "      <td>AND</td>\n",
              "    </tr>\n",
              "    <tr>\n",
              "      <th>1</th>\n",
              "      <td>1</td>\n",
              "      <td>2020-01-02</td>\n",
              "      <td>AD</td>\n",
              "      <td>0</td>\n",
              "      <td>0</td>\n",
              "      <td>160</td>\n",
              "      <td>1886</td>\n",
              "      <td>0</td>\n",
              "      <td>0</td>\n",
              "      <td>32170</td>\n",
              "      <td>402476</td>\n",
              "      <td>4.29</td>\n",
              "      <td>-0.78</td>\n",
              "      <td>10.44</td>\n",
              "      <td>5.02</td>\n",
              "      <td>NaN</td>\n",
              "      <td>-0.71</td>\n",
              "      <td>72.89</td>\n",
              "      <td>AD</td>\n",
              "      <td>Andorra</td>\n",
              "      <td>NaN</td>\n",
              "      <td>NaN</td>\n",
              "      <td>NaN</td>\n",
              "      <td>NaN</td>\n",
              "      <td>NaN</td>\n",
              "      <td>NaN</td>\n",
              "      <td>AD</td>\n",
              "      <td>AND</td>\n",
              "    </tr>\n",
              "    <tr>\n",
              "      <th>2</th>\n",
              "      <td>2</td>\n",
              "      <td>2020-01-03</td>\n",
              "      <td>AD</td>\n",
              "      <td>0</td>\n",
              "      <td>0</td>\n",
              "      <td>160</td>\n",
              "      <td>1886</td>\n",
              "      <td>0</td>\n",
              "      <td>0</td>\n",
              "      <td>32170</td>\n",
              "      <td>402476</td>\n",
              "      <td>5.20</td>\n",
              "      <td>0.88</td>\n",
              "      <td>8.92</td>\n",
              "      <td>4.01</td>\n",
              "      <td>NaN</td>\n",
              "      <td>0.44</td>\n",
              "      <td>73.98</td>\n",
              "      <td>AD</td>\n",
              "      <td>Andorra</td>\n",
              "      <td>NaN</td>\n",
              "      <td>NaN</td>\n",
              "      <td>NaN</td>\n",
              "      <td>NaN</td>\n",
              "      <td>NaN</td>\n",
              "      <td>NaN</td>\n",
              "      <td>AD</td>\n",
              "      <td>AND</td>\n",
              "    </tr>\n",
              "    <tr>\n",
              "      <th>3</th>\n",
              "      <td>3</td>\n",
              "      <td>2020-01-04</td>\n",
              "      <td>AD</td>\n",
              "      <td>0</td>\n",
              "      <td>0</td>\n",
              "      <td>160</td>\n",
              "      <td>1886</td>\n",
              "      <td>0</td>\n",
              "      <td>0</td>\n",
              "      <td>32170</td>\n",
              "      <td>402476</td>\n",
              "      <td>5.53</td>\n",
              "      <td>2.50</td>\n",
              "      <td>9.17</td>\n",
              "      <td>2.86</td>\n",
              "      <td>NaN</td>\n",
              "      <td>1.97</td>\n",
              "      <td>78.75</td>\n",
              "      <td>AD</td>\n",
              "      <td>Andorra</td>\n",
              "      <td>NaN</td>\n",
              "      <td>NaN</td>\n",
              "      <td>NaN</td>\n",
              "      <td>NaN</td>\n",
              "      <td>NaN</td>\n",
              "      <td>NaN</td>\n",
              "      <td>AD</td>\n",
              "      <td>AND</td>\n",
              "    </tr>\n",
              "    <tr>\n",
              "      <th>4</th>\n",
              "      <td>4</td>\n",
              "      <td>2020-01-05</td>\n",
              "      <td>AD</td>\n",
              "      <td>0</td>\n",
              "      <td>0</td>\n",
              "      <td>160</td>\n",
              "      <td>1886</td>\n",
              "      <td>0</td>\n",
              "      <td>0</td>\n",
              "      <td>32170</td>\n",
              "      <td>402476</td>\n",
              "      <td>4.53</td>\n",
              "      <td>-0.60</td>\n",
              "      <td>10.29</td>\n",
              "      <td>1.98</td>\n",
              "      <td>NaN</td>\n",
              "      <td>-2.29</td>\n",
              "      <td>66.45</td>\n",
              "      <td>AD</td>\n",
              "      <td>Andorra</td>\n",
              "      <td>NaN</td>\n",
              "      <td>NaN</td>\n",
              "      <td>NaN</td>\n",
              "      <td>NaN</td>\n",
              "      <td>NaN</td>\n",
              "      <td>NaN</td>\n",
              "      <td>AD</td>\n",
              "      <td>AND</td>\n",
              "    </tr>\n",
              "  </tbody>\n",
              "</table>\n",
              "</div>"
            ],
            "text/plain": [
              "   Unnamed: 0        date  ... iso_3166_1_alpha_2  iso_3166_1_alpha_3\n",
              "0           0  2020-01-01  ...                 AD                 AND\n",
              "1           1  2020-01-02  ...                 AD                 AND\n",
              "2           2  2020-01-03  ...                 AD                 AND\n",
              "3           3  2020-01-04  ...                 AD                 AND\n",
              "4           4  2020-01-05  ...                 AD                 AND\n",
              "\n",
              "[5 rows x 28 columns]"
            ]
          },
          "metadata": {},
          "execution_count": 25
        }
      ]
    },
    {
      "cell_type": "code",
      "metadata": {
        "id": "UikFCZRLdtgJ"
      },
      "source": [
        "#Remove the all negative values from dataset\n",
        "data['new_confirmed'] = data['new_confirmed'].clip(lower=0)\n",
        "data['new_deceased'] = data['new_deceased'].clip(lower=0)\n",
        "data['new_recovered'] = data['new_recovered'].clip(lower=0)\n",
        "data['new_tested'] = data['new_tested'].clip(lower=0)\n",
        "data['cumulative_confirmed'] = data['cumulative_confirmed'].clip(lower=0)"
      ],
      "execution_count": 26,
      "outputs": []
    },
    {
      "cell_type": "code",
      "metadata": {
        "id": "cLrKg689d25s"
      },
      "source": [
        "data['average_temperature_celsius'].interpolate(inplace=True)\n",
        "data['minimum_temperature_celsius'].interpolate(inplace=True)\n",
        "data['maximum_temperature_celsius'].interpolate(inplace=True)\n",
        "data['rainfall_mm'].interpolate(inplace=True)\n",
        "data['dew_point'].interpolate(inplace=True)\n",
        "data['new_confirmed'].interpolate(inplace=True)\n",
        "data['relative_humidity'].interpolate(inplace=True)\n"
      ],
      "execution_count": 27,
      "outputs": []
    },
    {
      "cell_type": "code",
      "metadata": {
        "id": "3kWduj4Bd5mm"
      },
      "source": [
        "#Select the records which are not with nan values\n",
        "data = data[data['location_key'].notna()]"
      ],
      "execution_count": 28,
      "outputs": []
    },
    {
      "cell_type": "code",
      "metadata": {
        "id": "-eP0kRnyd6TE"
      },
      "source": [
        "#rename the columns \n",
        "data.rename(columns={'date': 'Date', 'new_confirmed': 'New_Cases','new_deceased': 'New_Death','cumulative_confirmed': 'Total_Confirmed','average_temperature_celsius': 'Avg_Temp',\n",
        "                   'relative_humidity': 'Humidity','minimum_temperature_celsius': 'Min_Temp','maximum_temperature_celsius': 'Max_Temp','rainfall_mm': 'Rain_Fall',\n",
        "                   'dew_point':'Dew_Point','country_name':'Country','iso_3166_1_alpha_3': 'iso_code'\n",
        "                   \n",
        "                   }, inplace=True)"
      ],
      "execution_count": 134,
      "outputs": []
    },
    {
      "cell_type": "code",
      "metadata": {
        "id": "jyi9-yxT2EeG",
        "colab": {
          "base_uri": "https://localhost:8080/"
        },
        "outputId": "7b34302f-7610-4bde-dd60-be06bc9eee6d"
      },
      "source": [
        "global_data = data[['Date','New_Cases','Avg_Temp','iso_code',]]\n",
        "\n",
        "global_data.info()"
      ],
      "execution_count": 136,
      "outputs": [
        {
          "output_type": "stream",
          "name": "stdout",
          "text": [
            "<class 'pandas.core.frame.DataFrame'>\n",
            "Int64Index: 8626462 entries, 0 to 8627121\n",
            "Data columns (total 4 columns):\n",
            " #   Column     Dtype  \n",
            "---  ------     -----  \n",
            " 0   Date       object \n",
            " 1   New_Cases  int64  \n",
            " 2   Avg_Temp   float64\n",
            " 3   iso_code   object \n",
            "dtypes: float64(1), int64(1), object(2)\n",
            "memory usage: 329.1+ MB\n"
          ]
        }
      ]
    },
    {
      "cell_type": "code",
      "metadata": {
        "id": "goZgTFatipJ8"
      },
      "source": [
        "import numpy as np\n",
        "np.random.seed(1)\n",
        "\n",
        "import pandas as pd\n",
        "import matplotlib.pyplot as plt\n",
        "from keras.models import Sequential, load_model\n",
        "from keras.layers.core import Dense\n",
        "from keras.layers.recurrent import LSTM\n",
        "from keras import optimizers\n",
        "from keras.callbacks import EarlyStopping\n",
        "from sklearn.preprocessing import MinMaxScaler\n",
        "from sklearn.metrics import mean_squared_error, r2_score\n",
        "from math import sqrt\n",
        "import datetime as dt\n",
        "import time\n",
        "plt.style.use('ggplot')"
      ],
      "execution_count": 137,
      "outputs": []
    },
    {
      "cell_type": "markdown",
      "metadata": {
        "id": "Nf_Y7g0dP_ty"
      },
      "source": [
        "# USA LSTM Model"
      ]
    },
    {
      "cell_type": "markdown",
      "metadata": {
        "id": "O9NE3j6XMO8L"
      },
      "source": [
        "# LSTM Timerseries Model "
      ]
    },
    {
      "cell_type": "code",
      "metadata": {
        "colab": {
          "base_uri": "https://localhost:8080/"
        },
        "id": "QeaMudrqhbce",
        "outputId": "1b8b0d29-206a-42a0-ff24-31713cc5e877"
      },
      "source": [
        "global_data['Date'] = pd.to_datetime(global_data['Date'])"
      ],
      "execution_count": 138,
      "outputs": [
        {
          "output_type": "stream",
          "name": "stderr",
          "text": [
            "/usr/local/lib/python3.7/dist-packages/ipykernel_launcher.py:1: SettingWithCopyWarning:\n",
            "\n",
            "\n",
            "A value is trying to be set on a copy of a slice from a DataFrame.\n",
            "Try using .loc[row_indexer,col_indexer] = value instead\n",
            "\n",
            "See the caveats in the documentation: https://pandas.pydata.org/pandas-docs/stable/user_guide/indexing.html#returning-a-view-versus-a-copy\n",
            "\n"
          ]
        }
      ]
    },
    {
      "cell_type": "code",
      "metadata": {
        "id": "TRXNh5mYyRzC"
      },
      "source": [
        "train_start = pd.to_datetime(\"2021-8-1\")\n",
        "train_end = pd.to_datetime(\"2021-11-1\")\n",
        "mask_train = (global_data['Date'] > train_start) & (global_data['Date'] <= train_end)\n",
        "global_model_data = global_data.loc[mask_train]"
      ],
      "execution_count": 142,
      "outputs": []
    },
    {
      "cell_type": "code",
      "metadata": {
        "colab": {
          "base_uri": "https://localhost:8080/"
        },
        "id": "bQJ-mVNT58RD",
        "outputId": "6007d45a-2115-46a4-f5aa-5ae5ce1e2cd8"
      },
      "source": [
        "from sklearn import preprocessing\n",
        "# label_encoder object knows how to understand word labels. \n",
        "label_encoder = preprocessing.LabelEncoder()\n",
        "# Encode labels in column 'Country'. \n",
        "global_model_data['Country_label']= label_encoder.fit_transform(global_model_data['iso_code'])"
      ],
      "execution_count": 143,
      "outputs": [
        {
          "output_type": "stream",
          "name": "stderr",
          "text": [
            "/usr/local/lib/python3.7/dist-packages/ipykernel_launcher.py:5: SettingWithCopyWarning:\n",
            "\n",
            "\n",
            "A value is trying to be set on a copy of a slice from a DataFrame.\n",
            "Try using .loc[row_indexer,col_indexer] = value instead\n",
            "\n",
            "See the caveats in the documentation: https://pandas.pydata.org/pandas-docs/stable/user_guide/indexing.html#returning-a-view-versus-a-copy\n",
            "\n"
          ]
        }
      ]
    },
    {
      "cell_type": "code",
      "metadata": {
        "id": "ovRLBMjKSeIV",
        "colab": {
          "base_uri": "https://localhost:8080/"
        },
        "outputId": "ccca33fa-c251-4a80-fb63-70ebc4b0f6da"
      },
      "source": [
        "global_model_data.drop('iso_code', axis=1, inplace=True)"
      ],
      "execution_count": 145,
      "outputs": [
        {
          "output_type": "stream",
          "name": "stderr",
          "text": [
            "/usr/local/lib/python3.7/dist-packages/pandas/core/frame.py:4174: SettingWithCopyWarning:\n",
            "\n",
            "\n",
            "A value is trying to be set on a copy of a slice from a DataFrame\n",
            "\n",
            "See the caveats in the documentation: https://pandas.pydata.org/pandas-docs/stable/user_guide/indexing.html#returning-a-view-versus-a-copy\n",
            "\n"
          ]
        }
      ]
    },
    {
      "cell_type": "code",
      "metadata": {
        "id": "a5X1wx1fwA6-"
      },
      "source": [
        "global_model_data_new = global_model_data.copy() \n",
        "global_model_data_new[global_model_data_new.columns[0]] = pd.to_datetime(global_model_data_new[global_model_data_new.columns[0]], format='%d-%m-%Y')\n",
        "global_model_data_new = global_model_data_new.set_index(global_model_data_new.columns[0])\n",
        "global_model_data_new = global_model_data_new.sort_index()\n",
        "global_model_data = global_model_data_new.astype('float')"
      ],
      "execution_count": 146,
      "outputs": []
    },
    {
      "cell_type": "code",
      "metadata": {
        "colab": {
          "base_uri": "https://localhost:8080/",
          "height": 232
        },
        "id": "tJnhOoasZ9F9",
        "outputId": "573cc0db-6431-4588-a3e0-c0a4914fa22a"
      },
      "source": [
        "global_model_data.tail()"
      ],
      "execution_count": 147,
      "outputs": [
        {
          "output_type": "execute_result",
          "data": {
            "text/html": [
              "<div>\n",
              "<style scoped>\n",
              "    .dataframe tbody tr th:only-of-type {\n",
              "        vertical-align: middle;\n",
              "    }\n",
              "\n",
              "    .dataframe tbody tr th {\n",
              "        vertical-align: top;\n",
              "    }\n",
              "\n",
              "    .dataframe thead th {\n",
              "        text-align: right;\n",
              "    }\n",
              "</style>\n",
              "<table border=\"1\" class=\"dataframe\">\n",
              "  <thead>\n",
              "    <tr style=\"text-align: right;\">\n",
              "      <th></th>\n",
              "      <th>New_Cases</th>\n",
              "      <th>Avg_Temp</th>\n",
              "      <th>Country_label</th>\n",
              "    </tr>\n",
              "    <tr>\n",
              "      <th>Date</th>\n",
              "      <th></th>\n",
              "      <th></th>\n",
              "      <th></th>\n",
              "    </tr>\n",
              "  </thead>\n",
              "  <tbody>\n",
              "    <tr>\n",
              "      <th>2021-11-01</th>\n",
              "      <td>0.0</td>\n",
              "      <td>10.00</td>\n",
              "      <td>204.0</td>\n",
              "    </tr>\n",
              "    <tr>\n",
              "      <th>2021-11-01</th>\n",
              "      <td>0.0</td>\n",
              "      <td>12.11</td>\n",
              "      <td>204.0</td>\n",
              "    </tr>\n",
              "    <tr>\n",
              "      <th>2021-11-01</th>\n",
              "      <td>9.0</td>\n",
              "      <td>9.83</td>\n",
              "      <td>204.0</td>\n",
              "    </tr>\n",
              "    <tr>\n",
              "      <th>2021-11-01</th>\n",
              "      <td>1.0</td>\n",
              "      <td>11.22</td>\n",
              "      <td>204.0</td>\n",
              "    </tr>\n",
              "    <tr>\n",
              "      <th>2021-11-01</th>\n",
              "      <td>114.0</td>\n",
              "      <td>4.56</td>\n",
              "      <td>204.0</td>\n",
              "    </tr>\n",
              "  </tbody>\n",
              "</table>\n",
              "</div>"
            ],
            "text/plain": [
              "            New_Cases  Avg_Temp  Country_label\n",
              "Date                                          \n",
              "2021-11-01        0.0     10.00          204.0\n",
              "2021-11-01        0.0     12.11          204.0\n",
              "2021-11-01        9.0      9.83          204.0\n",
              "2021-11-01        1.0     11.22          204.0\n",
              "2021-11-01      114.0      4.56          204.0"
            ]
          },
          "metadata": {},
          "execution_count": 147
        }
      ]
    },
    {
      "cell_type": "code",
      "metadata": {
        "colab": {
          "base_uri": "https://localhost:8080/",
          "height": 141
        },
        "id": "eppayN4ljXdh",
        "outputId": "b045c9e1-d97a-453f-f208-14fbf855549c"
      },
      "source": [
        "global_model_data[global_model_data['Country_label']== 205].tail(2)"
      ],
      "execution_count": 148,
      "outputs": [
        {
          "output_type": "execute_result",
          "data": {
            "text/html": [
              "<div>\n",
              "<style scoped>\n",
              "    .dataframe tbody tr th:only-of-type {\n",
              "        vertical-align: middle;\n",
              "    }\n",
              "\n",
              "    .dataframe tbody tr th {\n",
              "        vertical-align: top;\n",
              "    }\n",
              "\n",
              "    .dataframe thead th {\n",
              "        text-align: right;\n",
              "    }\n",
              "</style>\n",
              "<table border=\"1\" class=\"dataframe\">\n",
              "  <thead>\n",
              "    <tr style=\"text-align: right;\">\n",
              "      <th></th>\n",
              "      <th>New_Cases</th>\n",
              "      <th>Avg_Temp</th>\n",
              "      <th>Country_label</th>\n",
              "    </tr>\n",
              "    <tr>\n",
              "      <th>Date</th>\n",
              "      <th></th>\n",
              "      <th></th>\n",
              "      <th></th>\n",
              "    </tr>\n",
              "  </thead>\n",
              "  <tbody>\n",
              "    <tr>\n",
              "      <th>2021-10-29</th>\n",
              "      <td>316.0</td>\n",
              "      <td>7.21</td>\n",
              "      <td>205.0</td>\n",
              "    </tr>\n",
              "    <tr>\n",
              "      <th>2021-10-30</th>\n",
              "      <td>281.0</td>\n",
              "      <td>9.86</td>\n",
              "      <td>205.0</td>\n",
              "    </tr>\n",
              "  </tbody>\n",
              "</table>\n",
              "</div>"
            ],
            "text/plain": [
              "            New_Cases  Avg_Temp  Country_label\n",
              "Date                                          \n",
              "2021-10-29      316.0      7.21          205.0\n",
              "2021-10-30      281.0      9.86          205.0"
            ]
          },
          "metadata": {},
          "execution_count": 148
        }
      ]
    },
    {
      "cell_type": "code",
      "metadata": {
        "id": "b0GHapMQ2WI6"
      },
      "source": [
        "validate = global_model_data[['Country_label','New_Cases','Avg_Temp']].tail(5)\n",
        "global_model_data.drop(global_model_data.tail(5).index,inplace=True)"
      ],
      "execution_count": 149,
      "outputs": []
    },
    {
      "cell_type": "code",
      "metadata": {
        "colab": {
          "base_uri": "https://localhost:8080/",
          "height": 232
        },
        "id": "UPvWe-d_NavR",
        "outputId": "81136d10-e4e7-4cc0-9a4a-834e916d42a7"
      },
      "source": [
        "global_model_data.tail()"
      ],
      "execution_count": 150,
      "outputs": [
        {
          "output_type": "execute_result",
          "data": {
            "text/html": [
              "<div>\n",
              "<style scoped>\n",
              "    .dataframe tbody tr th:only-of-type {\n",
              "        vertical-align: middle;\n",
              "    }\n",
              "\n",
              "    .dataframe tbody tr th {\n",
              "        vertical-align: top;\n",
              "    }\n",
              "\n",
              "    .dataframe thead th {\n",
              "        text-align: right;\n",
              "    }\n",
              "</style>\n",
              "<table border=\"1\" class=\"dataframe\">\n",
              "  <thead>\n",
              "    <tr style=\"text-align: right;\">\n",
              "      <th></th>\n",
              "      <th>New_Cases</th>\n",
              "      <th>Avg_Temp</th>\n",
              "      <th>Country_label</th>\n",
              "    </tr>\n",
              "    <tr>\n",
              "      <th>Date</th>\n",
              "      <th></th>\n",
              "      <th></th>\n",
              "      <th></th>\n",
              "    </tr>\n",
              "  </thead>\n",
              "  <tbody>\n",
              "    <tr>\n",
              "      <th>2021-10-31</th>\n",
              "      <td>0.0</td>\n",
              "      <td>20.54</td>\n",
              "      <td>27.0</td>\n",
              "    </tr>\n",
              "    <tr>\n",
              "      <th>2021-10-31</th>\n",
              "      <td>0.0</td>\n",
              "      <td>20.04</td>\n",
              "      <td>40.0</td>\n",
              "    </tr>\n",
              "    <tr>\n",
              "      <th>2021-10-31</th>\n",
              "      <td>0.0</td>\n",
              "      <td>24.65</td>\n",
              "      <td>27.0</td>\n",
              "    </tr>\n",
              "    <tr>\n",
              "      <th>2021-10-31</th>\n",
              "      <td>2.0</td>\n",
              "      <td>20.04</td>\n",
              "      <td>40.0</td>\n",
              "    </tr>\n",
              "    <tr>\n",
              "      <th>2021-10-31</th>\n",
              "      <td>0.0</td>\n",
              "      <td>17.26</td>\n",
              "      <td>204.0</td>\n",
              "    </tr>\n",
              "  </tbody>\n",
              "</table>\n",
              "</div>"
            ],
            "text/plain": [
              "            New_Cases  Avg_Temp  Country_label\n",
              "Date                                          \n",
              "2021-10-31        0.0     20.54           27.0\n",
              "2021-10-31        0.0     20.04           40.0\n",
              "2021-10-31        0.0     24.65           27.0\n",
              "2021-10-31        2.0     20.04           40.0\n",
              "2021-10-31        0.0     17.26          204.0"
            ]
          },
          "metadata": {},
          "execution_count": 150
        }
      ]
    },
    {
      "cell_type": "code",
      "metadata": {
        "id": "lUPNw4ch7CDO"
      },
      "source": [
        "X_scaler = MinMaxScaler()\n",
        "Y_scaler = MinMaxScaler()\n",
        "X_data = X_scaler.fit_transform(global_model_data[['Country_label','New_Cases','Avg_Temp']])\n",
        "Y_data = Y_scaler.fit_transform(global_model_data[['New_Cases']]) "
      ],
      "execution_count": 151,
      "outputs": []
    },
    {
      "cell_type": "code",
      "metadata": {
        "id": "NTgC5LS8iD9t"
      },
      "source": [
        "#X_data = X_data.reshape(X_data.shape[0], X_data.shape[1],1)\n",
        "\n",
        "#X_data.shape"
      ],
      "execution_count": null,
      "outputs": []
    },
    {
      "cell_type": "code",
      "metadata": {
        "id": "FD_uPNIblblf"
      },
      "source": [
        "#Y_data = Y_data.reshape(Y_data.shape[0], Y_data.shape[1],1)\n",
        "\n",
        "#Y_data.shape\n",
        "\n"
      ],
      "execution_count": null,
      "outputs": []
    },
    {
      "cell_type": "code",
      "metadata": {
        "id": "utrhvKJ_7Cc_"
      },
      "source": [
        " def custom_ts_multi_data_prep(dataset, target, start, end, window, horizon):\n",
        "    X = []\n",
        "    y = []\n",
        "    start = start + window\n",
        "    if end is None:\n",
        "        end = len(dataset) - horizon\n",
        "\n",
        "    for i in range(start, end):\n",
        "        indices = range(i-window, i)\n",
        "        X.append(dataset[indices])\n",
        "\n",
        "        indicey = range(i+1, i+1+horizon)\n",
        "        y.append(target[indicey])\n",
        "    return np.array(X), np.array(y)"
      ],
      "execution_count": 152,
      "outputs": []
    },
    {
      "cell_type": "code",
      "metadata": {
        "id": "G8CEOXcj-cGB"
      },
      "source": [
        "hist_window = 1\n",
        "horizon = 2\n",
        "TRAIN_SPLIT = 30000\n",
        "x_train, y_train = custom_ts_multi_data_prep(X_data, Y_data, 0, TRAIN_SPLIT, hist_window, horizon)\n",
        "x_vali, y_vali = custom_ts_multi_data_prep(X_data, Y_data, TRAIN_SPLIT, None, hist_window, horizon)"
      ],
      "execution_count": 153,
      "outputs": []
    },
    {
      "cell_type": "code",
      "metadata": {
        "colab": {
          "base_uri": "https://localhost:8080/"
        },
        "id": "GDsC7TW9i58r",
        "outputId": "fcefa678-aee4-4599-d15b-54bbcb03adeb"
      },
      "source": [
        "x_train"
      ],
      "execution_count": 154,
      "outputs": [
        {
          "output_type": "execute_result",
          "data": {
            "text/plain": [
              "array([[[2.29357798e-02, 9.50993789e-05, 6.71867612e-01]],\n",
              "\n",
              "       [[9.35779817e-01, 0.00000000e+00, 8.17494090e-01]],\n",
              "\n",
              "       [[3.21100917e-02, 6.00627656e-05, 6.36288416e-01]],\n",
              "\n",
              "       ...,\n",
              "\n",
              "       [[5.64220183e-01, 5.00523047e-06, 7.53782506e-01]],\n",
              "\n",
              "       [[5.64220183e-01, 1.00104609e-05, 7.83569740e-01]],\n",
              "\n",
              "       [[5.64220183e-01, 5.00523047e-06, 8.05673759e-01]]])"
            ]
          },
          "metadata": {},
          "execution_count": 154
        }
      ]
    },
    {
      "cell_type": "code",
      "metadata": {
        "colab": {
          "base_uri": "https://localhost:8080/"
        },
        "id": "q480ioc-2_Xy",
        "outputId": "e0027973-8a18-4252-ed74-37ac55f7d177"
      },
      "source": [
        "print ('Multiple window of past history\\n')\n",
        "print(x_train[0])\n",
        "print ('\\n Target horizon\\n')\n",
        "print (y_train[0])"
      ],
      "execution_count": 155,
      "outputs": [
        {
          "output_type": "stream",
          "name": "stdout",
          "text": [
            "Multiple window of past history\n",
            "\n",
            "[[2.29357798e-02 9.50993789e-05 6.71867612e-01]]\n",
            "\n",
            " Target horizon\n",
            "\n",
            "[[6.00627656e-05]\n",
            " [1.50156914e-05]]\n"
          ]
        }
      ]
    },
    {
      "cell_type": "code",
      "metadata": {
        "id": "qFSWzwhKJxsK"
      },
      "source": [
        " import tensorflow as tf \n",
        "batch_size = 256\n",
        "buffer_size = 150\n",
        "\n",
        "train_data = tf.data.Dataset.from_tensor_slices((x_train, y_train))\n",
        "train_data = train_data.cache().shuffle(buffer_size).batch(batch_size).repeat()\n",
        "\n",
        "val_data = tf.data.Dataset.from_tensor_slices((x_vali, y_vali))\n",
        "val_data = val_data.batch(batch_size).repeat()"
      ],
      "execution_count": 156,
      "outputs": []
    },
    {
      "cell_type": "code",
      "metadata": {
        "id": "RQiHgMUcK6gi"
      },
      "source": [
        "lstm_model = tf.keras.models.Sequential([\n",
        "  tf.keras.layers.Bidirectional(tf.keras.layers.LSTM(200, return_sequences=True), \n",
        "                               input_shape=x_train.shape[-2:]),\n",
        "    tf.keras.layers.Dense(20, activation='tanh'),\n",
        "    tf.keras.layers.Bidirectional(tf.keras.layers.LSTM(150)),\n",
        "    tf.keras.layers.Dense(20, activation='tanh'),\n",
        "    tf.keras.layers.Dense(20, activation='tanh'),\n",
        "    tf.keras.layers.Dropout(0.25),\n",
        "    tf.keras.layers.Dense(units=horizon),\n",
        "])\n",
        "lstm_model.compile(optimizer='adam', loss='mse')"
      ],
      "execution_count": 157,
      "outputs": []
    },
    {
      "cell_type": "code",
      "metadata": {
        "colab": {
          "base_uri": "https://localhost:8080/"
        },
        "id": "H28pL9fH3Ool",
        "outputId": "e3067f72-0a17-4a81-e064-560acc80ad8a"
      },
      "source": [
        "lstm_model.summary()"
      ],
      "execution_count": 158,
      "outputs": [
        {
          "output_type": "stream",
          "name": "stdout",
          "text": [
            "Model: \"sequential_3\"\n",
            "_________________________________________________________________\n",
            " Layer (type)                Output Shape              Param #   \n",
            "=================================================================\n",
            " bidirectional_6 (Bidirectio  (None, 1, 400)           326400    \n",
            " nal)                                                            \n",
            "                                                                 \n",
            " dense_12 (Dense)            (None, 1, 20)             8020      \n",
            "                                                                 \n",
            " bidirectional_7 (Bidirectio  (None, 300)              205200    \n",
            " nal)                                                            \n",
            "                                                                 \n",
            " dense_13 (Dense)            (None, 20)                6020      \n",
            "                                                                 \n",
            " dense_14 (Dense)            (None, 20)                420       \n",
            "                                                                 \n",
            " dropout_3 (Dropout)         (None, 20)                0         \n",
            "                                                                 \n",
            " dense_15 (Dense)            (None, 2)                 42        \n",
            "                                                                 \n",
            "=================================================================\n",
            "Total params: 546,102\n",
            "Trainable params: 546,102\n",
            "Non-trainable params: 0\n",
            "_________________________________________________________________\n"
          ]
        }
      ]
    },
    {
      "cell_type": "code",
      "metadata": {
        "id": "MKTSMaTaLAiW"
      },
      "source": [
        "model_path = 'Bidirectional_LSTM_Multivariate.h5'\n",
        "early_stopings = tf.keras.callbacks.EarlyStopping(monitor='val_loss', min_delta=0, patience=10, verbose=1, mode='min')\n",
        "checkpoint =  tf.keras.callbacks.ModelCheckpoint(model_path, monitor='val_loss', save_best_only=True, mode='min', verbose=0)\n",
        "callbacks=[early_stopings,checkpoint]"
      ],
      "execution_count": 159,
      "outputs": []
    },
    {
      "cell_type": "code",
      "metadata": {
        "colab": {
          "base_uri": "https://localhost:8080/"
        },
        "id": "vrY6qOSHLHt2",
        "outputId": "adfb34ab-d00b-4502-ca6a-d1b1091024bc"
      },
      "source": [
        "history = lstm_model.fit(train_data,epochs=150,steps_per_epoch=64,validation_data=val_data,validation_steps=50,verbose=1,callbacks=callbacks)"
      ],
      "execution_count": 160,
      "outputs": [
        {
          "output_type": "stream",
          "name": "stdout",
          "text": [
            "Epoch 1/150\n",
            "64/64 [==============================] - 9s 48ms/step - loss: 4.1829e-05 - val_loss: 3.7789e-05\n",
            "Epoch 2/150\n",
            "64/64 [==============================] - 1s 23ms/step - loss: 4.1593e-05 - val_loss: 4.0527e-05\n",
            "Epoch 3/150\n",
            "64/64 [==============================] - 1s 23ms/step - loss: 3.4970e-05 - val_loss: 3.8039e-05\n",
            "Epoch 4/150\n",
            "64/64 [==============================] - 2s 28ms/step - loss: 4.2145e-05 - val_loss: 3.6995e-05\n",
            "Epoch 5/150\n",
            "64/64 [==============================] - 1s 23ms/step - loss: 3.5031e-05 - val_loss: 3.7099e-05\n",
            "Epoch 6/150\n",
            "64/64 [==============================] - 2s 24ms/step - loss: 4.7585e-05 - val_loss: 3.7281e-05\n",
            "Epoch 7/150\n",
            "64/64 [==============================] - 1s 23ms/step - loss: 3.0275e-05 - val_loss: 3.7104e-05\n",
            "Epoch 8/150\n",
            "64/64 [==============================] - 1s 23ms/step - loss: 4.6846e-05 - val_loss: 3.7895e-05\n",
            "Epoch 9/150\n",
            "64/64 [==============================] - 1s 22ms/step - loss: 5.2871e-05 - val_loss: 3.8801e-05\n",
            "Epoch 10/150\n",
            "64/64 [==============================] - 2s 24ms/step - loss: 2.3173e-05 - val_loss: 3.6803e-05\n",
            "Epoch 11/150\n",
            "64/64 [==============================] - 1s 23ms/step - loss: 5.9505e-05 - val_loss: 3.7864e-05\n",
            "Epoch 12/150\n",
            "64/64 [==============================] - 1s 23ms/step - loss: 3.4905e-05 - val_loss: 3.6809e-05\n",
            "Epoch 13/150\n",
            "64/64 [==============================] - 1s 23ms/step - loss: 4.5654e-05 - val_loss: 3.7060e-05\n",
            "Epoch 14/150\n",
            "64/64 [==============================] - 1s 23ms/step - loss: 3.4389e-05 - val_loss: 3.7110e-05\n",
            "Epoch 15/150\n",
            "64/64 [==============================] - 1s 23ms/step - loss: 4.1466e-05 - val_loss: 3.6860e-05\n",
            "Epoch 16/150\n",
            "64/64 [==============================] - 1s 23ms/step - loss: 3.4823e-05 - val_loss: 3.6796e-05\n",
            "Epoch 17/150\n",
            "64/64 [==============================] - 1s 23ms/step - loss: 4.7248e-05 - val_loss: 3.7226e-05\n",
            "Epoch 18/150\n",
            "64/64 [==============================] - 1s 23ms/step - loss: 2.9720e-05 - val_loss: 3.6835e-05\n",
            "Epoch 19/150\n",
            "64/64 [==============================] - 1s 23ms/step - loss: 4.6020e-05 - val_loss: 3.7236e-05\n",
            "Epoch 20/150\n",
            "64/64 [==============================] - 1s 22ms/step - loss: 2.9466e-05 - val_loss: 3.7103e-05\n",
            "Epoch 21/150\n",
            "64/64 [==============================] - 1s 22ms/step - loss: 4.5890e-05 - val_loss: 3.7607e-05\n",
            "Epoch 22/150\n",
            "64/64 [==============================] - 1s 22ms/step - loss: 5.8635e-05 - val_loss: 3.7403e-05\n",
            "Epoch 23/150\n",
            "64/64 [==============================] - 1s 22ms/step - loss: 3.5851e-05 - val_loss: 3.7438e-05\n",
            "Epoch 24/150\n",
            "64/64 [==============================] - 1s 22ms/step - loss: 4.1846e-05 - val_loss: 3.7251e-05\n",
            "Epoch 25/150\n",
            "64/64 [==============================] - 1s 22ms/step - loss: 3.8555e-05 - val_loss: 3.7096e-05\n",
            "Epoch 26/150\n",
            "64/64 [==============================] - 1s 22ms/step - loss: 4.1022e-05 - val_loss: 3.8886e-05\n",
            "Epoch 00026: early stopping\n"
          ]
        }
      ]
    },
    {
      "cell_type": "code",
      "metadata": {
        "id": "-A_MiWk15uv9"
      },
      "source": [
        "data_val = X_scaler.fit_transform(global_model_data[['Country_label','New_Cases','Avg_Temp']].tail(1))\n",
        "val_rescaled = data_val.reshape(1, data_val.shape[0], data_val.shape[1])"
      ],
      "execution_count": 161,
      "outputs": []
    },
    {
      "cell_type": "code",
      "metadata": {
        "colab": {
          "base_uri": "https://localhost:8080/"
        },
        "id": "8vHmQ26AVVfv",
        "outputId": "087b39c9-83bd-463e-8415-f6a0b94a0b5c"
      },
      "source": [
        "val_rescaled"
      ],
      "execution_count": 97,
      "outputs": [
        {
          "output_type": "execute_result",
          "data": {
            "text/plain": [
              "array([[[0., 0., 0.]]])"
            ]
          },
          "metadata": {},
          "execution_count": 97
        }
      ]
    },
    {
      "cell_type": "code",
      "metadata": {
        "colab": {
          "base_uri": "https://localhost:8080/"
        },
        "id": "kh48y0_bkKFy",
        "outputId": "adf8581e-2683-4052-abce-ce6104f3e13e"
      },
      "source": [
        "pred = lstm_model.predict(val_rescaled)\n",
        "pred"
      ],
      "execution_count": 162,
      "outputs": [
        {
          "output_type": "execute_result",
          "data": {
            "text/plain": [
              "array([[-0.0004371 , -0.00120942]], dtype=float32)"
            ]
          },
          "metadata": {},
          "execution_count": 162
        }
      ]
    },
    {
      "cell_type": "code",
      "metadata": {
        "id": "IsGX8zo-WYb5"
      },
      "source": [
        "x = pred[0][0]"
      ],
      "execution_count": 100,
      "outputs": []
    },
    {
      "cell_type": "code",
      "metadata": {
        "colab": {
          "base_uri": "https://localhost:8080/"
        },
        "id": "XMqkW1g6Vzgf",
        "outputId": "1eab0528-717e-406d-b8ed-75bc60269cdf"
      },
      "source": [
        "print(\"%.10f\" % x)"
      ],
      "execution_count": 105,
      "outputs": [
        {
          "output_type": "stream",
          "name": "stdout",
          "text": [
            "0.0001811867\n"
          ]
        }
      ]
    },
    {
      "cell_type": "code",
      "metadata": {
        "colab": {
          "base_uri": "https://localhost:8080/"
        },
        "id": "q35Nj9gMkLto",
        "outputId": "9519225f-c886-4e3a-bf00-812b81f14fe3"
      },
      "source": [
        "pred_Inverse = Y_scaler.inverse_transform(pred)\n",
        "pred_Inverse"
      ],
      "execution_count": 163,
      "outputs": [
        {
          "output_type": "execute_result",
          "data": {
            "text/plain": [
              "array([[ -87.329185, -241.63026 ]], dtype=float32)"
            ]
          },
          "metadata": {},
          "execution_count": 163
        }
      ]
    },
    {
      "cell_type": "code",
      "metadata": {
        "id": "nA83fkX8-CgP"
      },
      "source": [
        "lstm_model.save('/content/drive/MyDrive/Weather/Deployment/finalmodel.h5')"
      ],
      "execution_count": 164,
      "outputs": []
    },
    {
      "cell_type": "code",
      "metadata": {
        "id": "ExfoIdUVMBuq"
      },
      "source": [
        " from sklearn import metrics\n",
        " def timeseries_evaluation_metrics_func(y_true, y_pred):\n",
        "     def mean_absolute_percentage_error(y_true, y_pred): \n",
        "         y_true, y_pred = np.array(y_true), np.array(y_pred)\n",
        "         return np.mean(np.abs((y_true - y_pred) / y_true)) * 100\n",
        "     print('Evaluation metric results:-')\n",
        "     print(f'MSE is : {metrics.mean_squared_error(y_true, y_pred)}')\n",
        "     print(f'MAE is : {metrics.mean_absolute_error(y_true, y_pred)}')\n",
        "     print(f'RMSE is : {np.sqrt(metrics.mean_squared_error(y_true, y_pred))}')\n",
        "     print(f'MAPE is : {mean_absolute_percentage_error(y_true, y_pred)}')\n",
        "     print(f'R2 is : {metrics.r2_score(y_true, y_pred)}',end='\\n\\n') "
      ],
      "execution_count": 53,
      "outputs": []
    },
    {
      "cell_type": "code",
      "metadata": {
        "id": "ko9_rb87MB5K"
      },
      "source": [
        "#timeseries_evaluation_metrics_func(validate['New_Cases'],pred_Inverse[0])"
      ],
      "execution_count": 55,
      "outputs": []
    },
    {
      "cell_type": "code",
      "metadata": {
        "colab": {
          "base_uri": "https://localhost:8080/",
          "height": 554
        },
        "id": "dEzcJnGLMB_k",
        "outputId": "3bc0d8d9-be29-436c-8f0f-e88a35925741"
      },
      "source": [
        "plt.figure(figsize=(16,9))\n",
        "plt.plot( list(validate['New_Cases']))\n",
        "plt.plot( list(pred_Inverse[0]))\n",
        "plt.title(\"Forecasting of Covid 19 New Cases Based on Weather Features\")\n",
        "plt.ylabel(\"New Cases\")\n",
        "plt.legend(('Actual','predicted'))\n",
        "plt.show()"
      ],
      "execution_count": null,
      "outputs": [
        {
          "output_type": "display_data",
          "data": {
            "image/png": "[encoded data removed]",
            "text/plain": [
              "<Figure size 1152x648 with 1 Axes>"
            ]
          },
          "metadata": {}
        }
      ]
    },
    {
      "cell_type": "code",
      "metadata": {
        "id": "id63RiC7h32D"
      },
      "source": [
        "# Your number, defined to 10 decimal places\n",
        "x =  0.0015074200928211212\n",
        "# Convert to string using f-strings with 10 decimal precision\n",
        "out = f'{x:.10f}'\n",
        "# Split at the decimal and take the second element from that list\n",
        "out = out.split('.')[1]\n",
        "# Strip the zeros from the left side of your split decimal\n",
        "out = out.lstrip('0')"
      ],
      "execution_count": 119,
      "outputs": []
    },
    {
      "cell_type": "code",
      "metadata": {
        "colab": {
          "base_uri": "https://localhost:8080/",
          "height": 35
        },
        "id": "spv7IERGh593",
        "outputId": "d99d6134-896a-4d35-f745-d455a40d4a45"
      },
      "source": [
        "out"
      ],
      "execution_count": 120,
      "outputs": [
        {
          "output_type": "execute_result",
          "data": {
            "application/vnd.google.colaboratory.intrinsic+json": {
              "type": "string"
            },
            "text/plain": [
              "'15074201'"
            ]
          },
          "metadata": {},
          "execution_count": 120
        }
      ]
    },
    {
      "cell_type": "code",
      "metadata": {
        "colab": {
          "base_uri": "https://localhost:8080/",
          "height": 130
        },
        "id": "YIfWA5-RoYft",
        "outputId": "d86bf6d0-6753-4bc9-b87d-6d0ab6864e3d"
      },
      "source": [
        "#covid data\n",
        "df_covid = pd.read_csv('https://raw.githubusercontent.com/owid/covid-19-data/master/public/data/latest/owid-covid-latest.csv')\n",
        "\n",
        "df_covid.head(2)"
      ],
      "execution_count": 167,
      "outputs": [
        {
          "output_type": "execute_result",
          "data": {
            "text/html": [
              "<div>\n",
              "<style scoped>\n",
              "    .dataframe tbody tr th:only-of-type {\n",
              "        vertical-align: middle;\n",
              "    }\n",
              "\n",
              "    .dataframe tbody tr th {\n",
              "        vertical-align: top;\n",
              "    }\n",
              "\n",
              "    .dataframe thead th {\n",
              "        text-align: right;\n",
              "    }\n",
              "</style>\n",
              "<table border=\"1\" class=\"dataframe\">\n",
              "  <thead>\n",
              "    <tr style=\"text-align: right;\">\n",
              "      <th></th>\n",
              "      <th>iso_code</th>\n",
              "      <th>continent</th>\n",
              "      <th>location</th>\n",
              "      <th>last_updated_date</th>\n",
              "      <th>total_cases</th>\n",
              "      <th>new_cases</th>\n",
              "      <th>new_cases_smoothed</th>\n",
              "      <th>total_deaths</th>\n",
              "      <th>new_deaths</th>\n",
              "      <th>new_deaths_smoothed</th>\n",
              "      <th>total_cases_per_million</th>\n",
              "      <th>new_cases_per_million</th>\n",
              "      <th>new_cases_smoothed_per_million</th>\n",
              "      <th>total_deaths_per_million</th>\n",
              "      <th>new_deaths_per_million</th>\n",
              "      <th>new_deaths_smoothed_per_million</th>\n",
              "      <th>reproduction_rate</th>\n",
              "      <th>icu_patients</th>\n",
              "      <th>icu_patients_per_million</th>\n",
              "      <th>hosp_patients</th>\n",
              "      <th>hosp_patients_per_million</th>\n",
              "      <th>weekly_icu_admissions</th>\n",
              "      <th>weekly_icu_admissions_per_million</th>\n",
              "      <th>weekly_hosp_admissions</th>\n",
              "      <th>weekly_hosp_admissions_per_million</th>\n",
              "      <th>new_tests</th>\n",
              "      <th>total_tests</th>\n",
              "      <th>total_tests_per_thousand</th>\n",
              "      <th>new_tests_per_thousand</th>\n",
              "      <th>new_tests_smoothed</th>\n",
              "      <th>new_tests_smoothed_per_thousand</th>\n",
              "      <th>positive_rate</th>\n",
              "      <th>tests_per_case</th>\n",
              "      <th>tests_units</th>\n",
              "      <th>total_vaccinations</th>\n",
              "      <th>people_vaccinated</th>\n",
              "      <th>people_fully_vaccinated</th>\n",
              "      <th>total_boosters</th>\n",
              "      <th>new_vaccinations</th>\n",
              "      <th>new_vaccinations_smoothed</th>\n",
              "      <th>total_vaccinations_per_hundred</th>\n",
              "      <th>people_vaccinated_per_hundred</th>\n",
              "      <th>people_fully_vaccinated_per_hundred</th>\n",
              "      <th>total_boosters_per_hundred</th>\n",
              "      <th>new_vaccinations_smoothed_per_million</th>\n",
              "      <th>stringency_index</th>\n",
              "      <th>population</th>\n",
              "      <th>population_density</th>\n",
              "      <th>median_age</th>\n",
              "      <th>aged_65_older</th>\n",
              "      <th>aged_70_older</th>\n",
              "      <th>gdp_per_capita</th>\n",
              "      <th>extreme_poverty</th>\n",
              "      <th>cardiovasc_death_rate</th>\n",
              "      <th>diabetes_prevalence</th>\n",
              "      <th>female_smokers</th>\n",
              "      <th>male_smokers</th>\n",
              "      <th>handwashing_facilities</th>\n",
              "      <th>hospital_beds_per_thousand</th>\n",
              "      <th>life_expectancy</th>\n",
              "      <th>human_development_index</th>\n",
              "      <th>excess_mortality_cumulative_absolute</th>\n",
              "      <th>excess_mortality_cumulative</th>\n",
              "      <th>excess_mortality</th>\n",
              "      <th>excess_mortality_cumulative_per_million</th>\n",
              "    </tr>\n",
              "  </thead>\n",
              "  <tbody>\n",
              "    <tr>\n",
              "      <th>0</th>\n",
              "      <td>AFG</td>\n",
              "      <td>Asia</td>\n",
              "      <td>Afghanistan</td>\n",
              "      <td>2021-11-13</td>\n",
              "      <td>156510.0</td>\n",
              "      <td>23.0</td>\n",
              "      <td>16.143</td>\n",
              "      <td>7292.0</td>\n",
              "      <td>0.0</td>\n",
              "      <td>1.143</td>\n",
              "      <td>3928.915</td>\n",
              "      <td>0.577</td>\n",
              "      <td>0.405</td>\n",
              "      <td>183.053</td>\n",
              "      <td>0.000</td>\n",
              "      <td>0.029</td>\n",
              "      <td>0.72</td>\n",
              "      <td>NaN</td>\n",
              "      <td>NaN</td>\n",
              "      <td>NaN</td>\n",
              "      <td>NaN</td>\n",
              "      <td>NaN</td>\n",
              "      <td>NaN</td>\n",
              "      <td>NaN</td>\n",
              "      <td>NaN</td>\n",
              "      <td>NaN</td>\n",
              "      <td>NaN</td>\n",
              "      <td>NaN</td>\n",
              "      <td>NaN</td>\n",
              "      <td>NaN</td>\n",
              "      <td>NaN</td>\n",
              "      <td>NaN</td>\n",
              "      <td>NaN</td>\n",
              "      <td>NaN</td>\n",
              "      <td>5852810.0</td>\n",
              "      <td>3097293.0</td>\n",
              "      <td>2755517.0</td>\n",
              "      <td>NaN</td>\n",
              "      <td>NaN</td>\n",
              "      <td>99520.0</td>\n",
              "      <td>14.69</td>\n",
              "      <td>7.78</td>\n",
              "      <td>6.92</td>\n",
              "      <td>NaN</td>\n",
              "      <td>2498.0</td>\n",
              "      <td>27.78</td>\n",
              "      <td>3.983543e+07</td>\n",
              "      <td>54.422</td>\n",
              "      <td>18.6</td>\n",
              "      <td>2.581</td>\n",
              "      <td>1.337</td>\n",
              "      <td>1803.987</td>\n",
              "      <td>NaN</td>\n",
              "      <td>597.029</td>\n",
              "      <td>9.59</td>\n",
              "      <td>NaN</td>\n",
              "      <td>NaN</td>\n",
              "      <td>37.746</td>\n",
              "      <td>0.5</td>\n",
              "      <td>64.83</td>\n",
              "      <td>0.511</td>\n",
              "      <td>NaN</td>\n",
              "      <td>NaN</td>\n",
              "      <td>NaN</td>\n",
              "      <td>NaN</td>\n",
              "    </tr>\n",
              "    <tr>\n",
              "      <th>1</th>\n",
              "      <td>OWID_AFR</td>\n",
              "      <td>NaN</td>\n",
              "      <td>Africa</td>\n",
              "      <td>2021-11-13</td>\n",
              "      <td>8557112.0</td>\n",
              "      <td>2516.0</td>\n",
              "      <td>3950.857</td>\n",
              "      <td>220788.0</td>\n",
              "      <td>394.0</td>\n",
              "      <td>205.429</td>\n",
              "      <td>6230.212</td>\n",
              "      <td>1.832</td>\n",
              "      <td>2.877</td>\n",
              "      <td>160.750</td>\n",
              "      <td>0.287</td>\n",
              "      <td>0.150</td>\n",
              "      <td>NaN</td>\n",
              "      <td>NaN</td>\n",
              "      <td>NaN</td>\n",
              "      <td>NaN</td>\n",
              "      <td>NaN</td>\n",
              "      <td>NaN</td>\n",
              "      <td>NaN</td>\n",
              "      <td>NaN</td>\n",
              "      <td>NaN</td>\n",
              "      <td>NaN</td>\n",
              "      <td>NaN</td>\n",
              "      <td>NaN</td>\n",
              "      <td>NaN</td>\n",
              "      <td>NaN</td>\n",
              "      <td>NaN</td>\n",
              "      <td>NaN</td>\n",
              "      <td>NaN</td>\n",
              "      <td>NaN</td>\n",
              "      <td>209788026.0</td>\n",
              "      <td>130945095.0</td>\n",
              "      <td>87750998.0</td>\n",
              "      <td>233093.0</td>\n",
              "      <td>325743.0</td>\n",
              "      <td>1002117.0</td>\n",
              "      <td>15.27</td>\n",
              "      <td>9.53</td>\n",
              "      <td>6.39</td>\n",
              "      <td>0.02</td>\n",
              "      <td>730.0</td>\n",
              "      <td>NaN</td>\n",
              "      <td>1.373486e+09</td>\n",
              "      <td>NaN</td>\n",
              "      <td>NaN</td>\n",
              "      <td>NaN</td>\n",
              "      <td>NaN</td>\n",
              "      <td>NaN</td>\n",
              "      <td>NaN</td>\n",
              "      <td>NaN</td>\n",
              "      <td>NaN</td>\n",
              "      <td>NaN</td>\n",
              "      <td>NaN</td>\n",
              "      <td>NaN</td>\n",
              "      <td>NaN</td>\n",
              "      <td>NaN</td>\n",
              "      <td>NaN</td>\n",
              "      <td>NaN</td>\n",
              "      <td>NaN</td>\n",
              "      <td>NaN</td>\n",
              "      <td>NaN</td>\n",
              "    </tr>\n",
              "  </tbody>\n",
              "</table>\n",
              "</div>"
            ],
            "text/plain": [
              "   iso_code  ... excess_mortality_cumulative_per_million\n",
              "0       AFG  ...                                     NaN\n",
              "1  OWID_AFR  ...                                     NaN\n",
              "\n",
              "[2 rows x 65 columns]"
            ]
          },
          "metadata": {},
          "execution_count": 167
        }
      ]
    },
    {
      "cell_type": "code",
      "metadata": {
        "id": "1gCK2Sb4seju"
      },
      "source": [
        "CA_Cases = df_covid[df_covid['new_cases'] == 'USA']\n",
        "\n",
        "CA_Cases"
      ],
      "execution_count": null,
      "outputs": []
    },
    {
      "cell_type": "code",
      "metadata": {
        "id": "OBnh2QPEsTSx"
      },
      "source": [
        ""
      ],
      "execution_count": null,
      "outputs": []
    }
  ]
}