{
  "nbformat": 4,
  "nbformat_minor": 0,
  "metadata": {
    "colab": {
      "name": "DeploymentCode_V3.ipynb",
      "provenance": [],
      "collapsed_sections": []
    },
    "kernelspec": {
      "name": "python3",
      "display_name": "Python 3"
    },
    "language_info": {
      "name": "python"
    }
  },
  "cells": [
    {
      "cell_type": "code",
      "metadata": {
        "id": "uxJLIMrPTlFp",
        "colab": {
          "base_uri": "https://localhost:8080/"
        },
        "outputId": "372ec8fd-08d5-4ba6-ada9-d233a7275dbb"
      },
      "source": [
        "!pip install -q pyngrok\n",
        "\n",
        "!pip install -q streamlit\n",
        "\n",
        "!pip install -q streamlit_ace"
      ],
      "execution_count": 1,
      "outputs": [
        {
          "output_type": "stream",
          "name": "stdout",
          "text": [
            "\u001b[?25l\r\u001b[K     |▍                               | 10 kB 18.7 MB/s eta 0:00:01\r\u001b[K     |▉                               | 20 kB 18.8 MB/s eta 0:00:01\r\u001b[K     |█▎                              | 30 kB 22.2 MB/s eta 0:00:01\r\u001b[K     |█▊                              | 40 kB 20.6 MB/s eta 0:00:01\r\u001b[K     |██▏                             | 51 kB 9.9 MB/s eta 0:00:01\r\u001b[K     |██▋                             | 61 kB 10.0 MB/s eta 0:00:01\r\u001b[K     |███                             | 71 kB 8.4 MB/s eta 0:00:01\r\u001b[K     |███▌                            | 81 kB 9.3 MB/s eta 0:00:01\r\u001b[K     |████                            | 92 kB 9.1 MB/s eta 0:00:01\r\u001b[K     |████▍                           | 102 kB 8.6 MB/s eta 0:00:01\r\u001b[K     |████▉                           | 112 kB 8.6 MB/s eta 0:00:01\r\u001b[K     |█████▎                          | 122 kB 8.6 MB/s eta 0:00:01\r\u001b[K     |█████▊                          | 133 kB 8.6 MB/s eta 0:00:01\r\u001b[K     |██████▏                         | 143 kB 8.6 MB/s eta 0:00:01\r\u001b[K     |██████▋                         | 153 kB 8.6 MB/s eta 0:00:01\r\u001b[K     |███████                         | 163 kB 8.6 MB/s eta 0:00:01\r\u001b[K     |███████▌                        | 174 kB 8.6 MB/s eta 0:00:01\r\u001b[K     |████████                        | 184 kB 8.6 MB/s eta 0:00:01\r\u001b[K     |████████▍                       | 194 kB 8.6 MB/s eta 0:00:01\r\u001b[K     |████████▉                       | 204 kB 8.6 MB/s eta 0:00:01\r\u001b[K     |█████████▎                      | 215 kB 8.6 MB/s eta 0:00:01\r\u001b[K     |█████████▊                      | 225 kB 8.6 MB/s eta 0:00:01\r\u001b[K     |██████████▏                     | 235 kB 8.6 MB/s eta 0:00:01\r\u001b[K     |██████████▌                     | 245 kB 8.6 MB/s eta 0:00:01\r\u001b[K     |███████████                     | 256 kB 8.6 MB/s eta 0:00:01\r\u001b[K     |███████████▍                    | 266 kB 8.6 MB/s eta 0:00:01\r\u001b[K     |███████████▉                    | 276 kB 8.6 MB/s eta 0:00:01\r\u001b[K     |████████████▎                   | 286 kB 8.6 MB/s eta 0:00:01\r\u001b[K     |████████████▊                   | 296 kB 8.6 MB/s eta 0:00:01\r\u001b[K     |█████████████▏                  | 307 kB 8.6 MB/s eta 0:00:01\r\u001b[K     |█████████████▋                  | 317 kB 8.6 MB/s eta 0:00:01\r\u001b[K     |██████████████                  | 327 kB 8.6 MB/s eta 0:00:01\r\u001b[K     |██████████████▌                 | 337 kB 8.6 MB/s eta 0:00:01\r\u001b[K     |███████████████                 | 348 kB 8.6 MB/s eta 0:00:01\r\u001b[K     |███████████████▍                | 358 kB 8.6 MB/s eta 0:00:01\r\u001b[K     |███████████████▉                | 368 kB 8.6 MB/s eta 0:00:01\r\u001b[K     |████████████████▎               | 378 kB 8.6 MB/s eta 0:00:01\r\u001b[K     |████████████████▊               | 389 kB 8.6 MB/s eta 0:00:01\r\u001b[K     |█████████████████▏              | 399 kB 8.6 MB/s eta 0:00:01\r\u001b[K     |█████████████████▋              | 409 kB 8.6 MB/s eta 0:00:01\r\u001b[K     |██████████████████              | 419 kB 8.6 MB/s eta 0:00:01\r\u001b[K     |██████████████████▌             | 430 kB 8.6 MB/s eta 0:00:01\r\u001b[K     |███████████████████             | 440 kB 8.6 MB/s eta 0:00:01\r\u001b[K     |███████████████████▍            | 450 kB 8.6 MB/s eta 0:00:01\r\u001b[K     |███████████████████▉            | 460 kB 8.6 MB/s eta 0:00:01\r\u001b[K     |████████████████████▎           | 471 kB 8.6 MB/s eta 0:00:01\r\u001b[K     |████████████████████▋           | 481 kB 8.6 MB/s eta 0:00:01\r\u001b[K     |█████████████████████           | 491 kB 8.6 MB/s eta 0:00:01\r\u001b[K     |█████████████████████▌          | 501 kB 8.6 MB/s eta 0:00:01\r\u001b[K     |██████████████████████          | 512 kB 8.6 MB/s eta 0:00:01\r\u001b[K     |██████████████████████▍         | 522 kB 8.6 MB/s eta 0:00:01\r\u001b[K     |██████████████████████▉         | 532 kB 8.6 MB/s eta 0:00:01\r\u001b[K     |███████████████████████▎        | 542 kB 8.6 MB/s eta 0:00:01\r\u001b[K     |███████████████████████▊        | 552 kB 8.6 MB/s eta 0:00:01\r\u001b[K     |████████████████████████▏       | 563 kB 8.6 MB/s eta 0:00:01\r\u001b[K     |████████████████████████▋       | 573 kB 8.6 MB/s eta 0:00:01\r\u001b[K     |█████████████████████████       | 583 kB 8.6 MB/s eta 0:00:01\r\u001b[K     |█████████████████████████▌      | 593 kB 8.6 MB/s eta 0:00:01\r\u001b[K     |██████████████████████████      | 604 kB 8.6 MB/s eta 0:00:01\r\u001b[K     |██████████████████████████▍     | 614 kB 8.6 MB/s eta 0:00:01\r\u001b[K     |██████████████████████████▉     | 624 kB 8.6 MB/s eta 0:00:01\r\u001b[K     |███████████████████████████▎    | 634 kB 8.6 MB/s eta 0:00:01\r\u001b[K     |███████████████████████████▊    | 645 kB 8.6 MB/s eta 0:00:01\r\u001b[K     |████████████████████████████▏   | 655 kB 8.6 MB/s eta 0:00:01\r\u001b[K     |████████████████████████████▋   | 665 kB 8.6 MB/s eta 0:00:01\r\u001b[K     |█████████████████████████████   | 675 kB 8.6 MB/s eta 0:00:01\r\u001b[K     |█████████████████████████████▌  | 686 kB 8.6 MB/s eta 0:00:01\r\u001b[K     |██████████████████████████████  | 696 kB 8.6 MB/s eta 0:00:01\r\u001b[K     |██████████████████████████████▍ | 706 kB 8.6 MB/s eta 0:00:01\r\u001b[K     |██████████████████████████████▊ | 716 kB 8.6 MB/s eta 0:00:01\r\u001b[K     |███████████████████████████████▏| 727 kB 8.6 MB/s eta 0:00:01\r\u001b[K     |███████████████████████████████▋| 737 kB 8.6 MB/s eta 0:00:01\r\u001b[K     |████████████████████████████████| 745 kB 8.6 MB/s \n",
            "\u001b[?25h  Building wheel for pyngrok (setup.py) ... \u001b[?25l\u001b[?25hdone\n",
            "\u001b[K     |████████████████████████████████| 9.1 MB 8.6 MB/s \n",
            "\u001b[K     |████████████████████████████████| 4.3 MB 27.1 MB/s \n",
            "\u001b[K     |████████████████████████████████| 76 kB 4.9 MB/s \n",
            "\u001b[K     |████████████████████████████████| 111 kB 50.3 MB/s \n",
            "\u001b[K     |████████████████████████████████| 178 kB 52.0 MB/s \n",
            "\u001b[K     |████████████████████████████████| 180 kB 51.9 MB/s \n",
            "\u001b[K     |████████████████████████████████| 63 kB 1.3 MB/s \n",
            "\u001b[K     |████████████████████████████████| 125 kB 67.3 MB/s \n",
            "\u001b[K     |████████████████████████████████| 790 kB 48.2 MB/s \n",
            "\u001b[K     |████████████████████████████████| 374 kB 57.1 MB/s \n",
            "\u001b[?25h  Building wheel for pympler (setup.py) ... \u001b[?25l\u001b[?25hdone\n",
            "  Building wheel for blinker (setup.py) ... \u001b[?25l\u001b[?25hdone\n",
            "\u001b[31mERROR: pip's dependency resolver does not currently take into account all the packages that are installed. This behaviour is the source of the following dependency conflicts.\n",
            "jupyter-console 5.2.0 requires prompt-toolkit<2.0.0,>=1.0.0, but you have prompt-toolkit 3.0.22 which is incompatible.\n",
            "google-colab 1.0.0 requires ipykernel~=4.10, but you have ipykernel 6.5.0 which is incompatible.\n",
            "google-colab 1.0.0 requires ipython~=5.5.0, but you have ipython 7.29.0 which is incompatible.\u001b[0m\n",
            "\u001b[K     |████████████████████████████████| 2.6 MB 8.0 MB/s \n",
            "\u001b[?25h"
          ]
        }
      ]
    },
    {
      "cell_type": "code",
      "metadata": {
        "colab": {
          "base_uri": "https://localhost:8080/"
        },
        "id": "MejuXPk7N425",
        "outputId": "85fcbf3d-e1e3-48f0-e75c-597fee360afd"
      },
      "source": [
        "!pip3 install requests bs4"
      ],
      "execution_count": 2,
      "outputs": [
        {
          "output_type": "stream",
          "name": "stdout",
          "text": [
            "Requirement already satisfied: requests in /usr/local/lib/python3.7/dist-packages (2.23.0)\n",
            "Requirement already satisfied: bs4 in /usr/local/lib/python3.7/dist-packages (0.0.1)\n",
            "Requirement already satisfied: urllib3!=1.25.0,!=1.25.1,<1.26,>=1.21.1 in /usr/local/lib/python3.7/dist-packages (from requests) (1.24.3)\n",
            "Requirement already satisfied: certifi>=2017.4.17 in /usr/local/lib/python3.7/dist-packages (from requests) (2021.10.8)\n",
            "Requirement already satisfied: idna<3,>=2.5 in /usr/local/lib/python3.7/dist-packages (from requests) (2.10)\n",
            "Requirement already satisfied: chardet<4,>=3.0.2 in /usr/local/lib/python3.7/dist-packages (from requests) (3.0.4)\n",
            "Requirement already satisfied: beautifulsoup4 in /usr/local/lib/python3.7/dist-packages (from bs4) (4.6.3)\n"
          ]
        }
      ]
    },
    {
      "cell_type": "code",
      "metadata": {
        "colab": {
          "base_uri": "https://localhost:8080/"
        },
        "id": "bjVt_viYT-jE",
        "outputId": "db02e9d2-daea-4900-c2e0-7b654ea52fba"
      },
      "source": [
        "%%writefile app.py\n",
        "from bs4 import BeautifulSoup\n",
        "from requests_html import HTMLSession \n",
        "import pickle\n",
        "import streamlit as st\n",
        "from tensorflow import keras\n",
        "# univariate bidirectional lstm example\n",
        "from numpy import array \n",
        "from sklearn.preprocessing import MinMaxScaler\n",
        "\n",
        "\n",
        "# loading the trained model\n",
        "model = keras.models.load_model('/content/drive/MyDrive/Weather/Deployment/finalmodel.h5')\n",
        "#model = keras.models.load_model('path/to/location')\n",
        "#regression = pickle.load(model)\n",
        "\n",
        "@st.cache()\n",
        "\n",
        "# Define a dictionary containing  data \n",
        "#country_lst = ['Canada','United States of America','France','United Kingdom']\n",
        "\n",
        "#country_label_lst = [35,207,65,205]\n",
        "\n",
        "\n",
        "def prediction(country_name):   \n",
        "\n",
        "        session = HTMLSession()\n",
        "        base_link = \"https://www.google.com/search?q=weather+\"\n",
        "        country = country_name\n",
        "        search_link = base_link+country\n",
        "        response = session.get(search_link)\n",
        "        soup = BeautifulSoup(response.content, 'html.parser')\n",
        "        # store all results on this dictionary\n",
        "        weatherdata = {}\n",
        "        # extract region\n",
        "        weatherdata['region'] = soup.find(\"div\", attrs={\"id\": \"wob_loc\"}).text\n",
        "        # extract temperature now\n",
        "        weatherdata['temp_now'] = soup.find(\"span\", attrs={\"id\": \"wob_tm\"}).text\n",
        "        # get the day and hour now\n",
        "        weatherdata['dayhour'] = soup.find(\"div\", attrs={\"id\": \"wob_dts\"}).text\n",
        "        # get the actual weather\n",
        "        weatherdata['weather_now'] = soup.find(\"span\", attrs={\"id\": \"wob_dc\"}).text\n",
        "        \n",
        "        temp =  soup.find(\"span\", attrs={\"id\": \"wob_tm\"}).text\n",
        "\n",
        "       #covid data\n",
        "       df_covid = pd.read_csv('https://raw.githubusercontent.com/owid/covid-19-data/master/public/data/latest/owid-covid-latest.csv')\n",
        "\n",
        "        for i in range(0,219):\n",
        "          if country_name == 'Canada':\n",
        "              country_label = 35\n",
        "          elif  country_name == 'United States of America':\n",
        "              country_label = 207\n",
        "          elif  country_name == 'France':\n",
        "              country_label = 65\n",
        "          else :\n",
        "              country_label = 205 \n",
        "\n",
        "          n_steps = 1\n",
        "          n_features = 3\n",
        "          x_input = array([35, 2350, float(temp)])\n",
        "          x_input = x_input.reshape((1, n_steps, n_features))\n",
        "          # Making predictions \n",
        "          prediction = model.predict(x_input)\n",
        "          return prediction\n",
        "\n",
        "\n",
        "\n",
        "\n",
        "# this is the main function in which we define our webpage  \n",
        "def main():       \n",
        "    # front end elements of the web page \n",
        "    html_temp = \"\"\" \n",
        "    <div style =\"background-color:MidnightBlue;padding:8px\"> \n",
        "    <h1 style =\"color:white;text-align:center;font-size:20px\">Covid 19 New Cases Prediction ML App</h1> \n",
        "    </div> \n",
        "    \"\"\"\n",
        "      \n",
        "    # display the front end aspect\n",
        "    st.markdown(html_temp, unsafe_allow_html = True) \n",
        "      \n",
        "    # following lines create boxes in which user can enter data required to make prediction \n",
        "    country_name = st.selectbox('Country',('Canada','United States of America','France','United Kingdom'))\n",
        "    result =\"\"\n",
        "      \n",
        "    # when 'Predict' is clicked, make the prediction and store it \n",
        "    if st.button(\"Predict\"): \n",
        "        result = prediction(country_name) \n",
        "        st.success('New Cases {}'.format(result[0][1]))\n",
        "        type(result)\n",
        "     \n",
        "if __name__=='__main__': \n",
        "    main()\n",
        "     "
      ],
      "execution_count": 38,
      "outputs": [
        {
          "output_type": "stream",
          "name": "stdout",
          "text": [
            "Overwriting app.py\n"
          ]
        }
      ]
    },
    {
      "cell_type": "code",
      "metadata": {
        "id": "IpbRZvvweGFB"
      },
      "source": [
        ""
      ],
      "execution_count": null,
      "outputs": []
    },
    {
      "cell_type": "code",
      "metadata": {
        "colab": {
          "base_uri": "https://localhost:8080/"
        },
        "id": "mMGVy9fSeGz8",
        "outputId": "a0602965-67d5-42de-992c-d72af1a41ad5"
      },
      "source": [
        "from google.colab import drive\n",
        "drive.mount('/content/drive')"
      ],
      "execution_count": 4,
      "outputs": [
        {
          "output_type": "stream",
          "name": "stdout",
          "text": [
            "Mounted at /content/drive\n"
          ]
        }
      ]
    },
    {
      "cell_type": "code",
      "metadata": {
        "id": "1apskpmHcWJW"
      },
      "source": [
        "!streamlit run app.py &>/dev/null&"
      ],
      "execution_count": 5,
      "outputs": []
    },
    {
      "cell_type": "code",
      "metadata": {
        "colab": {
          "base_uri": "https://localhost:8080/"
        },
        "id": "GEKqhBTcPQ8r",
        "outputId": "286ed7b3-2b3f-4bce-d72a-e9e8f5966fc3"
      },
      "source": [
        "!pip3 install requests-html"
      ],
      "execution_count": 6,
      "outputs": [
        {
          "output_type": "stream",
          "name": "stdout",
          "text": [
            "Collecting requests-html\n",
            "  Downloading requests_html-0.10.0-py3-none-any.whl (13 kB)\n",
            "Requirement already satisfied: requests in /usr/local/lib/python3.7/dist-packages (from requests-html) (2.23.0)\n",
            "Collecting parse\n",
            "  Downloading parse-1.19.0.tar.gz (30 kB)\n",
            "Collecting pyquery\n",
            "  Downloading pyquery-1.4.3-py3-none-any.whl (22 kB)\n",
            "Collecting pyppeteer>=0.0.14\n",
            "  Downloading pyppeteer-0.2.6-py3-none-any.whl (83 kB)\n",
            "\u001b[K     |████████████████████████████████| 83 kB 1.8 MB/s \n",
            "\u001b[?25hRequirement already satisfied: bs4 in /usr/local/lib/python3.7/dist-packages (from requests-html) (0.0.1)\n",
            "Collecting w3lib\n",
            "  Downloading w3lib-1.22.0-py2.py3-none-any.whl (20 kB)\n",
            "Collecting fake-useragent\n",
            "  Downloading fake-useragent-0.1.11.tar.gz (13 kB)\n",
            "Requirement already satisfied: tqdm<5.0.0,>=4.42.1 in /usr/local/lib/python3.7/dist-packages (from pyppeteer>=0.0.14->requests-html) (4.62.3)\n",
            "Collecting pyee<9.0.0,>=8.1.0\n",
            "  Downloading pyee-8.2.2-py2.py3-none-any.whl (12 kB)\n",
            "Collecting urllib3<2.0.0,>=1.25.8\n",
            "  Downloading urllib3-1.26.7-py2.py3-none-any.whl (138 kB)\n",
            "\u001b[K     |████████████████████████████████| 138 kB 43.5 MB/s \n",
            "\u001b[?25hRequirement already satisfied: importlib-metadata>=1.4 in /usr/local/lib/python3.7/dist-packages (from pyppeteer>=0.0.14->requests-html) (4.8.2)\n",
            "Collecting websockets<10.0,>=9.1\n",
            "  Downloading websockets-9.1-cp37-cp37m-manylinux2010_x86_64.whl (103 kB)\n",
            "\u001b[K     |████████████████████████████████| 103 kB 48.3 MB/s \n",
            "\u001b[?25hRequirement already satisfied: appdirs<2.0.0,>=1.4.3 in /usr/local/lib/python3.7/dist-packages (from pyppeteer>=0.0.14->requests-html) (1.4.4)\n",
            "Requirement already satisfied: zipp>=0.5 in /usr/local/lib/python3.7/dist-packages (from importlib-metadata>=1.4->pyppeteer>=0.0.14->requests-html) (3.6.0)\n",
            "Requirement already satisfied: typing-extensions>=3.6.4 in /usr/local/lib/python3.7/dist-packages (from importlib-metadata>=1.4->pyppeteer>=0.0.14->requests-html) (3.10.0.2)\n",
            "Requirement already satisfied: beautifulsoup4 in /usr/local/lib/python3.7/dist-packages (from bs4->requests-html) (4.6.3)\n",
            "Requirement already satisfied: lxml>=2.1 in /usr/local/lib/python3.7/dist-packages (from pyquery->requests-html) (4.2.6)\n",
            "Collecting cssselect>0.7.9\n",
            "  Downloading cssselect-1.1.0-py2.py3-none-any.whl (16 kB)\n",
            "Requirement already satisfied: certifi>=2017.4.17 in /usr/local/lib/python3.7/dist-packages (from requests->requests-html) (2021.10.8)\n",
            "Requirement already satisfied: idna<3,>=2.5 in /usr/local/lib/python3.7/dist-packages (from requests->requests-html) (2.10)\n",
            "Collecting urllib3<2.0.0,>=1.25.8\n",
            "  Downloading urllib3-1.25.11-py2.py3-none-any.whl (127 kB)\n",
            "\u001b[K     |████████████████████████████████| 127 kB 52.9 MB/s \n",
            "\u001b[?25hRequirement already satisfied: chardet<4,>=3.0.2 in /usr/local/lib/python3.7/dist-packages (from requests->requests-html) (3.0.4)\n",
            "Requirement already satisfied: six>=1.4.1 in /usr/local/lib/python3.7/dist-packages (from w3lib->requests-html) (1.15.0)\n",
            "Building wheels for collected packages: fake-useragent, parse\n",
            "  Building wheel for fake-useragent (setup.py) ... \u001b[?25l\u001b[?25hdone\n",
            "  Created wheel for fake-useragent: filename=fake_useragent-0.1.11-py3-none-any.whl size=13502 sha256=ebb42f64367f56740915454105ee4cd46f6c3b84e30eb5f7e215dff9ef489d6d\n",
            "  Stored in directory: /root/.cache/pip/wheels/ed/f7/62/50ab6c9a0b5567267ab76a9daa9d06315704209b2c5d032031\n",
            "  Building wheel for parse (setup.py) ... \u001b[?25l\u001b[?25hdone\n",
            "  Created wheel for parse: filename=parse-1.19.0-py3-none-any.whl size=24591 sha256=2a319b0e3b1db06ca4e576846fa45ef521970bff665852ff99de44d991eb16b4\n",
            "  Stored in directory: /root/.cache/pip/wheels/9c/aa/cc/f2228050ccb40f22144b073f15a2c84f11204f29fc0dce028e\n",
            "Successfully built fake-useragent parse\n",
            "Installing collected packages: websockets, urllib3, pyee, cssselect, w3lib, pyquery, pyppeteer, parse, fake-useragent, requests-html\n",
            "  Attempting uninstall: urllib3\n",
            "    Found existing installation: urllib3 1.24.3\n",
            "    Uninstalling urllib3-1.24.3:\n",
            "      Successfully uninstalled urllib3-1.24.3\n",
            "\u001b[31mERROR: pip's dependency resolver does not currently take into account all the packages that are installed. This behaviour is the source of the following dependency conflicts.\n",
            "google-colab 1.0.0 requires ipykernel~=4.10, but you have ipykernel 6.5.0 which is incompatible.\n",
            "google-colab 1.0.0 requires ipython~=5.5.0, but you have ipython 7.29.0 which is incompatible.\n",
            "datascience 0.10.6 requires folium==0.2.1, but you have folium 0.8.3 which is incompatible.\u001b[0m\n",
            "Successfully installed cssselect-1.1.0 fake-useragent-0.1.11 parse-1.19.0 pyee-8.2.2 pyppeteer-0.2.6 pyquery-1.4.3 requests-html-0.10.0 urllib3-1.25.11 w3lib-1.22.0 websockets-9.1\n"
          ]
        }
      ]
    },
    {
      "cell_type": "code",
      "metadata": {
        "colab": {
          "base_uri": "https://localhost:8080/"
        },
        "id": "HdtS_VqMccdH",
        "outputId": "421e08d9-25e6-49bc-8677-2921a148c014"
      },
      "source": [
        "from pyngrok import ngrok\n",
        " \n",
        "public_url = ngrok.connect('8501')\n",
        "public_url"
      ],
      "execution_count": 7,
      "outputs": [
        {
          "output_type": "stream",
          "name": "stdout",
          "text": [
            ""
          ]
        },
        {
          "output_type": "execute_result",
          "data": {
            "text/plain": [
              "<NgrokTunnel: \"http://9f45-35-199-191-65.ngrok.io\" -> \"http://localhost:8501\">"
            ]
          },
          "metadata": {},
          "execution_count": 7
        }
      ]
    },
    {
      "cell_type": "code",
      "metadata": {
        "colab": {
          "base_uri": "https://localhost:8080/"
        },
        "id": "w0aiSMWZXEpZ",
        "outputId": "b1e1d8dd-7708-48a8-91d1-b984bbfcc687"
      },
      "source": [
        "country_name = 'Canada'\n",
        "\n",
        "result = getTemp(country_name)\n",
        "print(f\"Temperature now: {result['temp_now']}°C\")\n",
        "print(\"Description:\", result['weather_now'])\n",
        "print(\"Current Time:\", result['dayhour'])\n"
      ],
      "execution_count": null,
      "outputs": [
        {
          "output_type": "stream",
          "name": "stdout",
          "text": [
            "Temperature now: 44°C\n",
            "Description: Cloudy\n",
            "Current Time: Saturday 12:00 PM\n"
          ]
        }
      ]
    },
    {
      "cell_type": "code",
      "metadata": {
        "id": "8UmuDeHCN9C8",
        "colab": {
          "base_uri": "https://localhost:8080/",
          "height": 35
        },
        "outputId": "ee4282c9-255f-4160-d296-f4faa6a6a777"
      },
      "source": [
        "from bs4 import BeautifulSoup\n",
        "from requests_html import HTMLSession\n",
        "\n",
        "\n",
        "\n",
        "session = HTMLSession()\n",
        "response = session.get(\"https://www.google.com/search?q=weather+Canada\")\n",
        "soup = BeautifulSoup(response.content, 'html.parser')\n",
        "     # store all results on this dictionary\n",
        "result = {}\n",
        "    # extract region\n",
        "result['region'] = soup.find(\"div\", attrs={\"id\": \"wob_loc\"}).text\n",
        "    # extract temperature now\n",
        "result['temp_now'] = soup.find(\"span\", attrs={\"id\": \"wob_tm\"}).text\n",
        "    # get the day and hour now\n",
        "result['dayhour'] = soup.find(\"div\", attrs={\"id\": \"wob_dts\"}).text\n",
        "    # get the actual weather\n",
        "result['weather_now'] = soup.find(\"span\", attrs={\"id\": \"wob_dc\"}).text\n",
        "    \n",
        "temp = soup.find(\"span\", attrs={\"id\": \"wob_tm\"}).text\n",
        "temp"
      ],
      "execution_count": 8,
      "outputs": [
        {
          "output_type": "execute_result",
          "data": {
            "application/vnd.google.colaboratory.intrinsic+json": {
              "type": "string"
            },
            "text/plain": [
              "'40'"
            ]
          },
          "metadata": {},
          "execution_count": 8
        }
      ]
    },
    {
      "cell_type": "code",
      "metadata": {
        "id": "Id3F2guyTsRG"
      },
      "source": [
        " \n",
        "\n",
        "   "
      ],
      "execution_count": null,
      "outputs": []
    },
    {
      "cell_type": "code",
      "metadata": {
        "colab": {
          "base_uri": "https://localhost:8080/"
        },
        "id": "zaxyTW-9BgyT",
        "outputId": "e5bda26c-5c9e-4c48-f4bc-051919f11197"
      },
      "source": [
        "print(f\"Temperature now: {result['temp_now']}°C\")\n",
        "print(\"Description:\", result['weather_now'])\n",
        "print(\"Description:\", result['dayhour'])"
      ],
      "execution_count": null,
      "outputs": [
        {
          "output_type": "stream",
          "name": "stdout",
          "text": [
            "Temperature now: 55°C\n",
            "Description: Cloudy\n",
            "Description: Saturday 5:00 PM\n"
          ]
        }
      ]
    },
    {
      "cell_type": "code",
      "metadata": {
        "id": "RfpevECLBhU5"
      },
      "source": [
        ""
      ],
      "execution_count": null,
      "outputs": []
    }
  ]
}